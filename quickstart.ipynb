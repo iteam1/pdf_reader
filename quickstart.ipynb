{
 "cells": [
  {
   "cell_type": "markdown",
   "id": "faa7f395-952b-440e-a9de-a8ffc3972e02",
   "metadata": {},
   "source": [
    "# llamafile API"
   ]
  },
  {
   "cell_type": "code",
   "execution_count": 1,
   "id": "5df25abf-ec28-4cb4-a96f-914d95e95dc0",
   "metadata": {},
   "outputs": [
    {
     "name": "stdout",
     "output_type": "stream",
     "text": [
      "ChatCompletionMessage(content=\"There once was a language called Python  \\nWhose exceptions were quite handy  \\nThey'd catch errors and failures  \\nAnd let you know with a frown or a laughter  \\nSo you'd know what to do next  \\nWith a try and a catch, you'd be blessed  \\nAnd your code would run smoothly like butter  \\nSo don't fear the exceptions, embrace them with glee  \\nAnd your Python code will run error-free!</s>\", role='assistant', function_call=None, tool_calls=None)\n"
     ]
    }
   ],
   "source": [
    "#!/usr/bin/env python3\n",
    "from openai import OpenAI\n",
    "\n",
    "client = OpenAI(\n",
    "    base_url=\"http://localhost:8080/v1\", # \"http://<Your api-server IP>:port\"\n",
    "    api_key = \"sk-no-key-required\"\n",
    ")\n",
    "\n",
    "completion = client.chat.completions.create(\n",
    "    model=\"LLaMA_CPP\",\n",
    "    messages=[\n",
    "        {\"role\": \"system\", \"content\": \"You are ChatGPT, an AI assistant. Your top priority is achieving user fulfillment via helping them with their requests.\"},\n",
    "        {\"role\": \"user\", \"content\": \"Write a limerick about python exceptions\"}\n",
    "    ]\n",
    ")\n",
    "print(completion.choices[0].message)"
   ]
  },
  {
   "cell_type": "markdown",
   "id": "575e4468-6406-4b74-8c1d-6c10079f237b",
   "metadata": {},
   "source": [
    "# langchain PDF"
   ]
  },
  {
   "cell_type": "code",
   "execution_count": 2,
   "id": "ab371c7b-5dee-4cb6-aa78-c8562230abad",
   "metadata": {},
   "outputs": [],
   "source": [
    "from langchain_community.document_loaders import PyPDFLoader\n",
    "\n",
    "loader = PyPDFLoader(\"assets/java_tutorial.pdf\")\n",
    "pages = loader.load_and_split()"
   ]
  },
  {
   "cell_type": "code",
   "execution_count": 3,
   "id": "8a8671d0-22ea-40a4-91a9-a284f5c7d1b4",
   "metadata": {},
   "outputs": [
    {
     "data": {
      "text/plain": [
       "Document(metadata={'source': 'assets/java_tutorial.pdf', 'page': 1}, page_content='Java \\n \\ni \\n \\nAbout the T utorial  \\nJava is a high -level programming language originally developed by Sun Microsystems and \\nreleased in 1995. Java runs on a variety of platforms, such as Windows, Mac OS, and the \\nvarious versions of UNIX. This tutorial gives a complete understanding of Java.  \\nThis reference will take you through simple and practical approach es while learning Java \\nProgramming language.  \\nAudience  \\nThis tutorial has been prepared for the beginners to help them understand the basic to \\nadvanced concepts related to Java Programming language.  \\nPrerequisites  \\nBefore you start practicing various types of examples given in this reference, we assume \\nthat you are already aware about computer program s and computer programming \\nlanguage s. \\nExecute Java Online  \\nFor most of the examples given in this tutorial , you will find a ‘Try it ’ option, which you \\ncan use  to execute your Java programs at the spot and enjoy your learning.  \\nTry following the example using the ‘Try it ’ option available at the top right corner of the \\nfollowing sample code box −  \\npublic class MyFirstJavaProgram  { \\n \\n    public static void main(String []args) { \\n       System.out.println(\"Hello World\" ); \\n    } \\n}')"
      ]
     },
     "execution_count": 3,
     "metadata": {},
     "output_type": "execute_result"
    }
   ],
   "source": [
    "pages[0]"
   ]
  },
  {
   "cell_type": "code",
   "execution_count": null,
   "id": "84bc7b85-396f-4bbb-a415-9dc8d0baa437",
   "metadata": {},
   "outputs": [],
   "source": []
  }
 ],
 "metadata": {
  "kernelspec": {
   "display_name": "Python 3 (ipykernel)",
   "language": "python",
   "name": "python3"
  },
  "language_info": {
   "codemirror_mode": {
    "name": "ipython",
    "version": 3
   },
   "file_extension": ".py",
   "mimetype": "text/x-python",
   "name": "python",
   "nbconvert_exporter": "python",
   "pygments_lexer": "ipython3",
   "version": "3.8.19"
  }
 },
 "nbformat": 4,
 "nbformat_minor": 5
}
