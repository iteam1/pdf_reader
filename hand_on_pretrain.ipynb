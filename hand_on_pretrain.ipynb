{
 "cells": [
  {
   "cell_type": "code",
   "execution_count": 1,
   "metadata": {},
   "outputs": [],
   "source": [
    "# sudo kill <PID>"
   ]
  },
  {
   "cell_type": "markdown",
   "metadata": {},
   "source": [
    "**What should i do?**\n",
    "\n",
    "- Handshake with ChatGPT\n",
    "- Handshake with Model-llamafile\n",
    "- Inspect the example pretrain-data\n",
    "- Load PDF book\n",
    "- Get some from llamafile\n",
    "- Get some from ChatGPT\n",
    "- Make data pretrain"
   ]
  },
  {
   "cell_type": "markdown",
   "metadata": {},
   "source": [
    "**Handshake with ChatGPT**"
   ]
  },
  {
   "cell_type": "code",
   "execution_count": 2,
   "metadata": {},
   "outputs": [
    {
     "name": "stdout",
     "output_type": "stream",
     "text": [
      "Import Successful!\n"
     ]
    }
   ],
   "source": [
    "# Import the libraries\n",
    "import os\n",
    "import json\n",
    "import time\n",
    "import random\n",
    "import requests\n",
    "from langchain_core.prompts import PromptTemplate\n",
    "from langchain_community.llms.llamafile import Llamafile\n",
    "\n",
    "print(\"Import Successful!\")"
   ]
  },
  {
   "cell_type": "code",
   "execution_count": 3,
   "metadata": {},
   "outputs": [],
   "source": [
    "# Get OPENAI_API_KEY key\n",
    "OPENAI_API_KEY_PATH = \"/home/loc/Documents/keys/OPENAI_API_KEY.txt\"\n",
    "with open(OPENAI_API_KEY_PATH,'r') as f:\n",
    "    OPENAI_API_KEY = f.read()\n",
    "    OPENAI_API_KEY = OPENAI_API_KEY.strip()\n",
    "    os.environ['OPENAI_API_KEY'] = OPENAI_API_KEY"
   ]
  },
  {
   "cell_type": "code",
   "execution_count": 4,
   "metadata": {},
   "outputs": [],
   "source": [
    "# Positional arguments (standard arguments) -> Keyword arguments (standard keyword arguments)\n",
    "def get_completion(headers:dict,messages:list,llm_name:str = 'gpt-3.5-turbo'):\n",
    "    \"\"\"\n",
    "    Function to get the completion from ChatGPT model via API\n",
    "    Args:\n",
    "        header (dict): header of sending package\n",
    "        messages (list): list of message follow the format ('role','content')\n",
    "        llm_name (str): name of chatGPT model (default gpt-3.5-turbo)\n",
    "    Returns:\n",
    "        response (dict): Response in json format\n",
    "    \"\"\"\n",
    "    \n",
    "    # Define the data payload for the request\n",
    "    data = {'model': llm_name,\n",
    "            'messages': messages\n",
    "           }\n",
    "\n",
    "    # Make the API request\n",
    "    response = requests.post(\n",
    "        'https://api.openai.com/v1/chat/completions',\n",
    "        headers=headers,\n",
    "        json=data,\n",
    "        verify=False  # Disable SSL verification if necessary\n",
    "    )\n",
    "\n",
    "    return response.json()"
   ]
  },
  {
   "cell_type": "code",
   "execution_count": 5,
   "metadata": {},
   "outputs": [
    {
     "name": "stderr",
     "output_type": "stream",
     "text": [
      "/home/loc/miniconda3/envs/factory/lib/python3.8/site-packages/urllib3/connectionpool.py:1099: InsecureRequestWarning: Unverified HTTPS request is being made to host 'api.openai.com'. Adding certificate verification is strongly advised. See: https://urllib3.readthedocs.io/en/latest/advanced-usage.html#tls-warnings\n",
      "  warnings.warn(\n"
     ]
    },
    {
     "name": "stdout",
     "output_type": "stream",
     "text": [
      "{\n",
      "  \"id\": \"chatcmpl-9rXqRS1bGjpSzwDcQcze9jFtd2qCp\",\n",
      "  \"object\": \"chat.completion\",\n",
      "  \"created\": 1722548511,\n",
      "  \"model\": \"gpt-3.5-turbo-0125\",\n",
      "  \"choices\": [\n",
      "    {\n",
      "      \"index\": 0,\n",
      "      \"message\": {\n",
      "        \"role\": \"assistant\",\n",
      "        \"content\": \"Sure, here you go: Why don't scientists trust atoms? Because they make up everything!\"\n",
      "      },\n",
      "      \"logprobs\": null,\n",
      "      \"finish_reason\": \"stop\"\n",
      "    }\n",
      "  ],\n",
      "  \"usage\": {\n",
      "    \"prompt_tokens\": 22,\n",
      "    \"completion_tokens\": 19,\n",
      "    \"total_tokens\": 41\n",
      "  },\n",
      "  \"system_fingerprint\": null\n",
      "}\n"
     ]
    }
   ],
   "source": [
    "# Define the request headers\n",
    "headers = {\n",
    "    'Content-Type': 'application/json',\n",
    "    'Authorization': f'Bearer {OPENAI_API_KEY}',\n",
    "}\n",
    "\n",
    "messages = [{'role': 'system', 'content': 'You are a helpful assistant.'},\n",
    "            {'role': 'user', 'content': 'Tell me a joke.'}\n",
    "           ]\n",
    "\n",
    "\n",
    "res = get_completion(headers,messages)\n",
    "\n",
    "# Print the response\n",
    "print(json.dumps(res, indent=2))"
   ]
  },
  {
   "cell_type": "markdown",
   "metadata": {},
   "source": [
    "**Handshake with Model-llamafile**"
   ]
  },
  {
   "cell_type": "code",
   "execution_count": 6,
   "metadata": {},
   "outputs": [
    {
     "data": {
      "text/plain": [
       "' How can I assist you today?</s>'"
      ]
     },
     "execution_count": 6,
     "metadata": {},
     "output_type": "execute_result"
    }
   ],
   "source": [
    "# Connect to LLM llamafile\n",
    "llm = Llamafile()\n",
    "\n",
    "llm.invoke(\"Hello!\")"
   ]
  },
  {
   "cell_type": "markdown",
   "metadata": {},
   "source": [
    "**Inspect the example pretrain-data**"
   ]
  },
  {
   "cell_type": "code",
   "execution_count": 7,
   "metadata": {},
   "outputs": [
    {
     "name": "stdout",
     "output_type": "stream",
     "text": [
      "Total dataset samples: 300\n",
      "[{'text': 'Don’t think you need all the bells and whistles? No problem. McKinley Heating Service Experts Heating & Air Conditioning offers basic air cleaners that work to improve the quality of the air in your home without breaking the bank. It is a low-cost solution that will ensure you and your family are living comfortably.\\nIt’s a good idea to understand the efficiency rate of the filters, which measures what size of molecules can get through the filter. Basic air cleaners can filter some of the dust, dander and pollen that need to be removed. They are 85% efficient, and usually have a 6-inch cleaning surface.\\nBasic air cleaners are not too expensive and do the job well. If you do want to hear more about upgrading from a basic air cleaner, let the NATE-certified experts at McKinley Heating Service Experts in Edmonton talk to you about their selection.\\nEither way, now’s a perfect time to enhance and protect the indoor air quality in your home, for you and your loved ones.\\nIf you want expert advice and quality service in Edmonton, give McKinley Heating Service Experts a call at 780-800-7092 to get your questions or concerns related to your HVAC system addressed.'}, {'text': 'To the apparent surprise of everyone, the Walt Disney Company has announced a deal to purchase Lucasfilm Ltd. According to the official press release, Disney has agreed to fork over $4.05 billion in cash and stock for George Lucas’ studio in a deal that brings together two of the world’s most important intellectual property libraries.\\nAs you might expect, Disney is itching to take advantage of its new toys. “This transaction combines a world-class portfolio of content including Star Wars, one of the greatest family entertainment franchises of all time, with Disney’s unique and unparalleled creativity across multiple platforms, businesses, and markets to generate sustained growth and drive significant long-term value,” said Disney CEO Robert Iger in this afternoon’s announcement.\\nUnder the terms of this agreement Disney will acquire control over all Lucasfilm iterations. This includes both its traditional film-making studio facilities, as well as the various technologies Lucasfilm has created over the years to further its various media properties. Thus, the gigantic Disney family now includes Lucasfilm itself, special effects house Industrial Light & Magic, Skywalker Sound and LucasArts, the company’s video game creation division.\\nThis acquisition alone would be huge news, but as if to pre-empt fan speculation on the future of Star Wars the same announcement also mentions that a new Star Wars movie is scheduled to appear in 2015. Though the vast majority of recent Star Wars media has been focused on the property’s various animated iterations and LEGO crossovers, this new film will be the first official cinematic continuation of George Lucas’ original Star Wars trilogy. Though very few details are offered on this film, it has officially been dubbed Star Wars: Episode VII, and barring any major catastrophes it should hit theaters at some point in 2015 (if we had to guess, we’d assume an early summer release in keeping with the tradition established by its predecessors).\\nPerhaps even more intriguing however, is the announcement’s claim that Episode VII’s release will herald a new era in which new Star Wars movies hit theaters “every two to three years.” It specifically mentions Episodes VIII and IX by name, though offers no solid details on either film.\\nWhile the effects of the move won’t be fully known for at least a few months, we can think of a number of a things this new union might change. For instance, currently Dark Horse Comics publishes all Star Wars comic books, but with Disney owning Marvel Comics we can’t see that agreement lasting for long. Likewise, both Disney and Lucasfilm have sizable divisions dedicated to creating video games based on their various media properties. Normally these companies have had to seek outside publishing agreements, but now that they’ve joined forces and massively expanded the number of games either company is capable of releasing in any given year, it makes a lot of sense for Disney to invest in its own games publishing wing.\\nFinally, this agreement almost certainly heralds future crossovers between Disney and Lucasfilm characters. We don’t know any specifics, but it’s only a matter of time before we see toys depicting Mickey Mouse dressed as Darth Vader. Whether that sounds awesome or stomach-churningly disgusting is entirely up to your rapidly waning sense of childhood whimsy.\\nUpdate: Scratch that last prediction. Apparently Disney characters dressed as Star Wars characters is already a thing.\\nOur partnership with LucasFilm has produced over 20 yrs worth of stories. We have Star Wars for the near future, and hope for years to come.'}]\n"
     ]
    }
   ],
   "source": [
    "DATA_PATH = 'examples/c4_demo.json'\n",
    "\n",
    "# Read the dataset\n",
    "with open(DATA_PATH,'r',encoding='utf-8') as f:\n",
    "    dataset = json.load(f)\n",
    "\n",
    "print(f'Total dataset samples: {len(dataset)}')\n",
    "\n",
    "print(dataset[:2])"
   ]
  },
  {
   "cell_type": "code",
   "execution_count": 8,
   "metadata": {},
   "outputs": [
    {
     "name": "stdout",
     "output_type": "stream",
     "text": [
      "{\n",
      "  \"text\": \"Don\\u2019t think you need all the bells and whistles? No problem. McKinley Heating Service Experts Heating & Air Conditioning offers basic air cleaners that work to improve the quality of the air in your home without breaking the bank. It is a low-cost solution that will ensure you and your family are living comfortably.\\nIt\\u2019s a good idea to understand the efficiency rate of the filters, which measures what size of molecules can get through the filter. Basic air cleaners can filter some of the dust, dander and pollen that need to be removed. They are 85% efficient, and usually have a 6-inch cleaning surface.\\nBasic air cleaners are not too expensive and do the job well. If you do want to hear more about upgrading from a basic air cleaner, let the NATE-certified experts at McKinley Heating Service Experts in Edmonton talk to you about their selection.\\nEither way, now\\u2019s a perfect time to enhance and protect the indoor air quality in your home, for you and your loved ones.\\nIf you want expert advice and quality service in Edmonton, give McKinley Heating Service Experts a call at 780-800-7092 to get your questions or concerns related to your HVAC system addressed.\"\n",
      "}\n"
     ]
    }
   ],
   "source": [
    "first_sample = dataset[0]\n",
    "print(json.dumps(first_sample,indent=2))\n",
    "content = first_sample['text']"
   ]
  },
  {
   "cell_type": "code",
   "execution_count": 9,
   "metadata": {},
   "outputs": [
    {
     "name": "stderr",
     "output_type": "stream",
     "text": [
      "/home/loc/miniconda3/envs/factory/lib/python3.8/site-packages/urllib3/connectionpool.py:1099: InsecureRequestWarning: Unverified HTTPS request is being made to host 'api.openai.com'. Adding certificate verification is strongly advised. See: https://urllib3.readthedocs.io/en/latest/advanced-usage.html#tls-warnings\n",
      "  warnings.warn(\n"
     ]
    },
    {
     "name": "stdout",
     "output_type": "stream",
     "text": [
      "{\n",
      "  \"id\": \"chatcmpl-9rXqUFqN7U5sOSl9MKRlsc20w3q4m\",\n",
      "  \"object\": \"chat.completion\",\n",
      "  \"created\": 1722548514,\n",
      "  \"model\": \"gpt-3.5-turbo-0125\",\n",
      "  \"choices\": [\n",
      "    {\n",
      "      \"index\": 0,\n",
      "      \"message\": {\n",
      "        \"role\": \"assistant\",\n",
      "        \"content\": \"The content provides information about basic air cleaners offered by McKinley Heating Service Experts Heating & Air Conditioning in Edmonton. These affordable air cleaners improve air quality by filtering dust, dander, and pollen. They are 85% efficient with a 6-inch cleaning surface. The company offers expert advice on upgrading air cleaners if needed. Readers are encouraged to contact McKinley Heating Service Experts for assistance with HVAC system questions or concerns.\"\n",
      "      },\n",
      "      \"logprobs\": null,\n",
      "      \"finish_reason\": \"stop\"\n",
      "    }\n",
      "  ],\n",
      "  \"usage\": {\n",
      "    \"prompt_tokens\": 268,\n",
      "    \"completion_tokens\": 84,\n",
      "    \"total_tokens\": 352\n",
      "  },\n",
      "  \"system_fingerprint\": null\n",
      "}\n"
     ]
    }
   ],
   "source": [
    "# Test with ChatGPT\n",
    "messages = [{'role': 'system', 'content': 'You are a helpful assistant.'},\n",
    "            {'role': 'user', 'content': f'summary the content between three backticks ```{content}```'}\n",
    "           ]\n",
    "\n",
    "res = get_completion(headers,messages)\n",
    "\n",
    "# Print the response\n",
    "print(json.dumps(res, indent=2))"
   ]
  },
  {
   "cell_type": "code",
   "execution_count": 10,
   "metadata": {},
   "outputs": [
    {
     "data": {
      "text/plain": [
       "'\\n```In summary, McKinley Heating Service Experts offers basic air cleaners that improve indoor air quality without breaking the bank. These filters are 85% efficient and have a 6-inch cleaning surface, which is not too expensive to own. The experts at McKinley Heating Service Experts can provide advice on upgrading from basic air cleaners. If you want expert advice in Edmonton, give them a call at 780-800-7092.```</s>'"
      ]
     },
     "execution_count": 10,
     "metadata": {},
     "output_type": "execute_result"
    }
   ],
   "source": [
    "# Test with model llamafile\n",
    "llm.invoke(f'summary the content between three backticks in 30 words```{content}```')"
   ]
  },
  {
   "cell_type": "code",
   "execution_count": 11,
   "metadata": {},
   "outputs": [
    {
     "name": "stdout",
     "output_type": "stream",
     "text": [
      "\n",
      "You are a helpful assistant. Based on the following information, provide a summary in 30 words:\n",
      "Information: Don’t think you need all the bells and whistles? No problem. McKinley Heating Service Experts Heating & Air Conditioning offers basic air cleaners that work to improve the quality of the air in your home without breaking the bank. It is a low-cost solution that will ensure you and your family are living comfortably.\n",
      "It’s a good idea to understand the efficiency rate of the filters, which measures what size of molecules can get through the filter. Basic air cleaners can filter some of the dust, dander and pollen that need to be removed. They are 85% efficient, and usually have a 6-inch cleaning surface.\n",
      "Basic air cleaners are not too expensive and do the job well. If you do want to hear more about upgrading from a basic air cleaner, let the NATE-certified experts at McKinley Heating Service Experts in Edmonton talk to you about their selection.\n",
      "Either way, now’s a perfect time to enhance and protect the indoor air quality in your home, for you and your loved ones.\n",
      "If you want expert advice and quality service in Edmonton, give McKinley Heating Service Experts a call at 780-800-7092 to get your questions or concerns related to your HVAC system addressed.\n",
      "Summary:\n",
      "\n"
     ]
    }
   ],
   "source": [
    "# Create template\n",
    "prompt_template = \"\"\"\n",
    "You are a helpful assistant. Based on the following information, provide a summary in 30 words:\n",
    "Information: {information}\n",
    "Summary:\n",
    "\"\"\"\n",
    "\n",
    "prompt = PromptTemplate.from_template(prompt_template)\n",
    "\n",
    "# Check\n",
    "current_prompt = prompt.format(information=content)\n",
    "print(current_prompt)"
   ]
  },
  {
   "cell_type": "code",
   "execution_count": 12,
   "metadata": {},
   "outputs": [
    {
     "name": "stdout",
     "output_type": "stream",
     "text": [
      "Total dataset samples: 300\n",
      "Sample size: 5\n"
     ]
    }
   ],
   "source": [
    "total_sample_size = len(dataset)\n",
    "sample_size = 5\n",
    "\n",
    "print(f'Total dataset samples: {total_sample_size}')\n",
    "print(f'Sample size: {sample_size}')"
   ]
  },
  {
   "cell_type": "code",
   "execution_count": 15,
   "metadata": {},
   "outputs": [
    {
     "name": "stdout",
     "output_type": "stream",
     "text": [
      "Response_0 Words:1846 Consumming Time:3.18(s):\n",
      "Broadway Village in Vancouver's Kitsilano neighbourhood has excellent exposure and accessibility with a high level of transit services. The area is known for shopping, services, beach proximity, and downtown Vancouver. However, the information provided should be verified before reliance on it as CBRE does not guarantee its accuracy or completeness.</s>\n",
      "\n",
      "\n",
      "Response_1 Words:370 Consumming Time:1.17(s):\n",
      "We recently launched a satisfaction survey with a third party and welcome new team member Cathryn Wile, who will lead marketing efforts in Denver.</s>\n",
      "\n",
      "\n",
      "Response_2 Words:1715 Consumming Time:2.47(s):\n",
      "Combination reactions, exothermic processes such as respiration and decomposition of vegetable matter into compounds are examples of combination reactions.</s>\n",
      "\n",
      "\n",
      "Response_3 Words:405 Consumming Time:1.19(s):\n",
      "Lenten soup suppers were organized by Deb S. and volunteers who provided food and labor for a wonderful fellowship time during Lent.</s>\n",
      "\n",
      "\n",
      "Response_4 Words:689 Consumming Time:1.58(s):\n",
      "Customizable knitted masks for Bane quotes and League of Shadows references, handmade to fit any size, colors can be changed to suit individual preferences.</s>\n",
      "\n",
      "\n"
     ]
    }
   ],
   "source": [
    "# Use llm to inspect some samples\n",
    "for i in range(sample_size):\n",
    "    # Start Counting time\n",
    "    start_time = time.time()\n",
    "    # Random pick sample index\n",
    "    random_index = random.choice(range(total_sample_size))\n",
    "    # Get sample by random_index\n",
    "    current_sample = dataset[random_index]\n",
    "    # Get the content\n",
    "    current_content = current_sample['text']\n",
    "    # Generate prompt\n",
    "    current_prompt = prompt.format(information=current_content)\n",
    "    # LLM inference\n",
    "    current_response = llm.invoke(current_prompt)\n",
    "    # End counting time\n",
    "    end_time = time.time() - start_time\n",
    "    print(f\"Response_{i} Words:{len(current_prompt)} Consumming Time:{end_time:.2f}(s):\\n{current_response}\\n\\n\")"
   ]
  },
  {
   "cell_type": "markdown",
   "metadata": {},
   "source": [
    "**Load PDF book**"
   ]
  },
  {
   "cell_type": "code",
   "execution_count": 16,
   "metadata": {},
   "outputs": [
    {
     "name": "stdout",
     "output_type": "stream",
     "text": [
      "Total pages 412\n"
     ]
    }
   ],
   "source": [
    "from langchain_community.document_loaders import PyPDFLoader\n",
    "\n",
    "loader = PyPDFLoader(\"assets/86001047-517.pdf\")\n",
    "book_pages = loader.load_and_split()\n",
    "\n",
    "total_pages = len(book_pages)\n",
    "print(\"Total pages\",total_pages)"
   ]
  },
  {
   "cell_type": "code",
   "execution_count": 18,
   "metadata": {},
   "outputs": [
    {
     "name": "stdout",
     "output_type": "stream",
     "text": [
      "the MYUSE attribute of another file. However, the values of the MYUSE and KIND\n",
      "attributes cannot be compared or assigned to each other, because they are different\n",
      "attributes. If the # string primary form is used, it must also represent a compatible\n",
      "mnemonic.\n",
      "Example\n",
      "In the following example, F is a file identifier, T is a task identifier, and S is a string\n",
      "identifier:\n",
      "S:=\"ALGOL\";\n",
      "IFF(FILEKIND) IS#(S&\"SYMBOL\") THEN...\n",
      "S:=\"NEVERUSED\";\n",
      "T(STATUS=#S);\n",
      "STRING DISK;\n",
      "DISK:=\"PRINTER\";\n",
      "F(KIND=#DISK); %Yields KIND =PRINTER\n",
      "Constant Expressions\n",
      "A constant expression is a combination of basic elements with values that can be\n",
      "determined at compile time. These basic elements can be Boolean constants, integer\n",
      "constants, real constants, string constants, or job parameters that appeared in the job\n",
      "parameter list.\n",
      "The constant expressions allowed by WFL are a subset of the various types of\n",
      "expressions that have been described earlier in this section. For example, Boolean\n",
      "constant expressions are a subset of Boolean expressions. The difference is that variables\n",
      "are not allowed in constant expressions.\n",
      "A constant expression can be used anywhere an expression of the same type is allowed.\n",
      "Constant expressions can also be assigned as values in variable declarations, where\n",
      "expressions that use variables are not permitted.\n",
      "The following pages give the formal syntax of Boolean constant expressions, integer\n",
      "constant expressions, real constant expressions, and string constant expressions.\n",
      "Example\n",
      "The following example illustrates constant expressions:\n",
      "?BEGIN JOB PARAMPASS(BOOLEANTF1, INTEGERX,STRING S);\n",
      "BOOLEANBOOL1:=NOT TF1; %Booleandeclaration\n",
      "INTEGERINT1:= X*2;%Integerdeclaration\n",
      "RUN (DEVA)OBJECT/POOCH(BOOL1,INT1);\n",
      "RUN (NATTY)OBJECT/FREE(TAKE(S,2));\n",
      "?END JOB.Expressions\n",
      "7–24 8600 1047-517\n"
     ]
    }
   ],
   "source": [
    "# Random select page\n",
    "page_index = random.choice(range(total_pages))\n",
    "current_page = book_pages[page_index]\n",
    "print(current_page.page_content)"
   ]
  },
  {
   "cell_type": "markdown",
   "metadata": {},
   "source": [
    "**Get some from llamafile**"
   ]
  },
  {
   "cell_type": "code",
   "execution_count": 19,
   "metadata": {},
   "outputs": [],
   "source": [
    "prompt_template = \"\"\"\n",
    "You are an expert at extracting useful information from text.\n",
    "Your task is to read through the provided text page and identify the fact or the helpful information.\n",
    "Here is the text page:\n",
    "{text}\n",
    "Answer the question in 100 words\n",
    "\"\"\"\n",
    "\n",
    "prompt = PromptTemplate.from_template(prompt_template)"
   ]
  },
  {
   "cell_type": "code",
   "execution_count": 20,
   "metadata": {},
   "outputs": [
    {
     "data": {
      "text/plain": [
       "'\\nYou are an expert at extracting useful information from text.\\nYour task is to read through the provided text page and identify the fact or the helpful information.\\nHere is the text page:\\n\\nthe MYUSE attribute of another file. However, the values of the MYUSE and KIND\\nattributes cannot be compared or assigned to each other, because they are different\\nattributes. If the # string primary form is used, it must also represent a compatible\\nmnemonic.\\nExample\\nIn the following example, F is a file identifier, T is a task identifier, and S is a string\\nidentifier:\\nS:=\"ALGOL\";\\nIFF(FILEKIND) IS#(S&\"SYMBOL\") THEN...\\nS:=\"NEVERUSED\";\\nT(STATUS=#S);\\nSTRING DISK;\\nDISK:=\"PRINTER\";\\nF(KIND=#DISK); %Yields KIND =PRINTER\\nConstant Expressions\\nA constant expression is a combination of basic elements with values that can be\\ndetermined at compile time. These basic elements can be Boolean constants, integer\\nconstants, real constants, string constants, or job parameters that appeared in the job\\nparameter list.\\nThe constant expressions allowed by WFL are a subset of the various types of\\nexpressions that have been described earlier in this section. For example, Boolean\\nconstant expressions are a subset of Boolean expressions. The difference is that variables\\nare not allowed in constant expressions.\\nA constant expression can be used anywhere an expression of the same type is allowed.\\nConstant expressions can also be assigned as values in variable declarations, where\\nexpressions that use variables are not permitted.\\nThe following pages give the formal syntax of Boolean constant expressions, integer\\nconstant expressions, real constant expressions, and string constant expressions.\\nExample\\nThe following example illustrates constant expressions:\\n?BEGIN JOB PARAMPASS(BOOLEANTF1, INTEGERX,STRING S);\\nBOOLEANBOOL1:=NOT TF1; %Booleandeclaration\\nINTEGERINT1:= X*2;%Integerdeclaration\\nRUN (DEVA)OBJECT/POOCH(BOOL1,INT1);\\nRUN (NATTY)OBJECT/FREE(TAKE(S,2));\\n?END JOB.Expressions\\n7–24 8600 1047-517\\n'"
      ]
     },
     "execution_count": 20,
     "metadata": {},
     "output_type": "execute_result"
    }
   ],
   "source": [
    "current_content = current_page.page_content\n",
    "current_prompt = prompt.format(text=current_content)\n",
    "current_prompt"
   ]
  },
  {
   "cell_type": "code",
   "execution_count": 24,
   "metadata": {},
   "outputs": [
    {
     "name": "stdout",
     "output_type": "stream",
     "text": [
      "Page_0 Words 490\n",
      "creating multiple copies, 6–88\n",
      "packet write recording, 6–93\n",
      "restrictions, 6–99\n",
      "L\n",
      "label attribute\n",
      "in alter statement, 6–11\n",
      "label identifier, 8–3\n",
      "for statements, 3–16\n",
      "in go statement, 6–120\n",
      "laissezfile, CANDE option, 5–35\n",
      "length function, 7–9\n",
      "in integer primary, 7–8\n",
      "letter, 8–2\n",
      "in identifier, 8–2\n",
      "in s\n",
      "Response_0 Consumming Time:20.84(s):\n",
      "in s\n",
      "s\n",
      "s\n",
      "s\n",
      "for statements, 3–15\n",
      "label attribute, 6–11\n",
      "in alter statement, 6–120\n",
      "laissezfile, CANDE option, 5–35\n",
      "length function, 7–9\n",
      "in integer primary, 7–8\n",
      "letter, 8–2\n",
      "in identifier, 4–6\n",
      "in s, 5–9\n",
      "go statement, 6–120\n",
      "for statements, 6–15\n",
      "laissezfile, CANDE option, 5–35\n",
      "label attribute, 6–11\n",
      "length function, 7–9\n",
      "in integer primary, 7–8\n",
      "letter, 8–2\n",
      "in identifier, 8–2\n",
      "in s, 5–9\n",
      "for statements, 3–15\n",
      "label attribute, 6–11\n",
      "in alter statement, 6–120\n",
      "laissezfile, CANDE option, 5–35\n",
      "length function, 7–9\n",
      "in integer primary, 7–8\n",
      "letter, 8–2\n",
      "in identifier, 4–6\n",
      "in s, 5–9\n",
      "go statement, for statements, 6–15\n",
      "laissezfile, CANDE option, 5–35\n",
      "label attribute, 6–11\n",
      "length function, 7–9\n",
      "in integer primary, 7–8\n",
      "letter, 8–2\n",
      "in identifier, 4–6\n",
      "s, 5–9\n",
      "go statement, for statements, 6–15\n",
      "laissezfile, CANDE option, 5–35\n",
      "label attribute, 6–11\n",
      "length function, 7–9\n",
      "in integer primary, 7–8\n",
      "letter, 8–2\n",
      "in identifier, 4–6\n",
      "for statements, 3–15\n",
      "label attribute, 6–11\n",
      "in alter statement, 6–120\n",
      "laissezfile, CANDE option, 5–35\n",
      "length function, 7–9\n",
      "letter in identifier, 4–6\n",
      "go statement, for statements, 6–15\n",
      "for statements, 3–15\n",
      "go statement, go statement, for statements, 6–15\n",
      "for statements, for statements, go statement, for statements, go statement, go statement, for statements, go statement, for statements, go statement\n",
      "\n",
      "I know the problem is with this part: `if (x.length === 3)`, but I don't know how to fix it. I want to keep the for loop as is.\n",
      "\n",
      "Comment: The question is a bit unclear. There seem to be different for loops and variables in your code snippet. Do you mean to ask about this if statement? `if (x.length === 3)` ?\n",
      "\n",
      "Comment: yes, I meant to ask about that if statement\n",
      "\n",
      "## Answer (2)\n",
      "\n",
      "I think you are trying to match the number of characters in a string with an integer. You can do it like this:\n",
      "\n",
      "```\n",
      "function compareString(x: string) {\n",
      "  return x.length === 3;\n",
      "}\n",
      "```\n",
      "\n",
      "Comment: I want to keep the for loop as is, but the if statement needs to be fixed\n",
      "\n",
      "Comment: @JeffreyLiu I added code to show how to fix it using `if (x.length === 3)`. Is there anything else?</s>\n",
      "\n",
      "\n",
      "\n",
      "Page_1 Words 490\n",
      "Explanation\n",
      "The ACCEPT function displays a string on the ODT and waits for an operator to respond by\n",
      "way of an AX (Accept) system command. For a description of this command, refer to the\n",
      "System Commands Reference .\n",
      "The AX command can also be entered from the MARC Action line, as explained in the\n",
      "MAR\n",
      "Response_1 Consumming Time:11.13(s):\n",
      "\n",
      "The ACCEPT function is a feature of ODT, OpenDocument Text (ODT), that allows users to accept input from the user. It waits for a response from an operator before continuing with the program. The AX command can be used in conjunction with MARC Action line, which is another feature of ODT. The ODT is a document format that is widely used in libraries and publishers. OpenDocument Text is similar to Word processing software like Microsoft Word, but it is open-source.\n",
      "\n",
      "ODT is a free, open-source document format that allows users to create, edit and share documents. It is widely adopted by many organizations, including libraries and publishers, for its flexibility and ease of use. ODT is also compatible with other open document formats like PDF, EPUB, and HTML.\n",
      "\n",
      "In addition to its functionality as a document format, ODT also provides useful information about its various features and capabilities. For example, the ACCEPT function allows users to accept input from an operator before continuing with the program, while the MARC Action line allows users to automate certain tasks in ODT. These features make ODT a powerful tool for document management and organization.\n",
      "\n",
      "Fact: ODT is an open-source document format that allows users to create, edit and share documents. It is widely adopted by many organizations for its flexibility and ease of use. ODT is also compatible with other open document formats like PDF, EPUB, and HTML.\n",
      "\n",
      "Helful Information: ODT is a free and open-source document format that can be used to create, edit and share documents. It is similar to Word processing software like Microsoft Word but offers more flexibility and ease of use. ODT provides various features and capabilities that make it a powerful tool for document management and organization. Some of these features include the ACCEPT function that allows users to accept input from an operator before continuing with the program, and the MARC Action line that automates certain tasks in ODT.</s>\n",
      "\n",
      "\n",
      "\n"
     ]
    }
   ],
   "source": [
    "# Init\n",
    "sample_size = 2\n",
    "words_len = 300 # Some where around 3000 words, Need more GPU to\n",
    "llm = Llamafile() # Use llamafile\n",
    "llm.invoke(\"Hello\")\n",
    "\n",
    "# Use llm to inspect some samples\n",
    "for i in range(sample_size):\n",
    "    # Start Counting time\n",
    "    start_time = time.time()\n",
    "    # Random pick sample index\n",
    "    random_index = random.choice(range(total_pages))\n",
    "    # Get sample by random_index\n",
    "    current_page = book_pages[random_index]\n",
    "    # Get the content\n",
    "    current_content = current_page.page_content[:word_len]\n",
    "    # Generate prompt\n",
    "    current_prompt = prompt.format(text=current_content)\n",
    "    # LLM inference\n",
    "    current_response = llm.invoke(current_prompt)\n",
    "    # End counting time\n",
    "    end_time = time.time() - start_time\n",
    "    print(f\"Page_{i} Words {len(current_prompt)}\\n{current_content}\\nResponse_{i} Consumming Time:{end_time:.2f}(s):\\n{current_response}\\n\\n\\n\")"
   ]
  },
  {
   "cell_type": "code",
   "execution_count": null,
   "metadata": {},
   "outputs": [],
   "source": []
  },
  {
   "cell_type": "code",
   "execution_count": null,
   "metadata": {},
   "outputs": [],
   "source": []
  }
 ],
 "metadata": {
  "kernelspec": {
   "display_name": "Python 3 (ipykernel)",
   "language": "python",
   "name": "python3"
  },
  "language_info": {
   "codemirror_mode": {
    "name": "ipython",
    "version": 3
   },
   "file_extension": ".py",
   "mimetype": "text/x-python",
   "name": "python",
   "nbconvert_exporter": "python",
   "pygments_lexer": "ipython3",
   "version": "3.8.19"
  }
 },
 "nbformat": 4,
 "nbformat_minor": 4
}
