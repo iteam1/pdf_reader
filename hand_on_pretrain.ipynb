{
 "cells": [
  {
   "cell_type": "markdown",
   "metadata": {},
   "source": [
    "**What should i do?**\n",
    "\n",
    "- Handshake with ChatGPT\n",
    "- Handshake with Model-llamafile\n",
    "- Inspect the example pretrain-data\n",
    "- Load PDF book\n",
    "- Prompt Something?"
   ]
  },
  {
   "cell_type": "markdown",
   "metadata": {},
   "source": [
    "**Handshake with ChatGPT**"
   ]
  },
  {
   "cell_type": "code",
   "execution_count": 1,
   "metadata": {},
   "outputs": [
    {
     "name": "stdout",
     "output_type": "stream",
     "text": [
      "Import Successful!\n"
     ]
    }
   ],
   "source": [
    "# Import the libraries\n",
    "import os\n",
    "import json\n",
    "import time\n",
    "import random\n",
    "import requests\n",
    "from langchain_core.prompts import PromptTemplate\n",
    "from langchain_community.llms.llamafile import Llamafile\n",
    "\n",
    "print(\"Import Successful!\")"
   ]
  },
  {
   "cell_type": "code",
   "execution_count": 2,
   "metadata": {},
   "outputs": [],
   "source": [
    "# Get OPENAI_API_KEY key\n",
    "OPENAI_API_KEY_PATH = \"...\"\n",
    "with open(OPENAI_API_KEY_PATH,'r') as f:\n",
    "    OPENAI_API_KEY = f.read()\n",
    "    os.environ['OPENAI_API_KEY'] = OPENAI_API_KEY"
   ]
  },
  {
   "cell_type": "code",
   "execution_count": 3,
   "metadata": {},
   "outputs": [],
   "source": [
    "# Positional arguments (standard arguments) -> Keyword arguments (standard keyword arguments)\n",
    "def get_completion(headers:dict,messages:list,llm_name:str = 'gpt-3.5-turbo'):\n",
    "    \"\"\"\n",
    "    Function to get the completion from ChatGPT model via API\n",
    "    Args:\n",
    "        header (dict): header of sending package\n",
    "        messages (list): list of message follow the format ('role','content')\n",
    "        llm_name (str): name of chatGPT model (default gpt-3.5-turbo)\n",
    "    Returns:\n",
    "        response (dict): Response in json format\n",
    "    \"\"\"\n",
    "    \n",
    "    # Define the data payload for the request\n",
    "    data = {'model': llm_name,\n",
    "            'messages': messages\n",
    "           }\n",
    "\n",
    "    # Make the API request\n",
    "    response = requests.post(\n",
    "        'https://api.openai.com/v1/chat/completions',\n",
    "        headers=headers,\n",
    "        json=data,\n",
    "        verify=False  # Disable SSL verification if necessary\n",
    "    )\n",
    "\n",
    "    return response.json()"
   ]
  },
  {
   "cell_type": "code",
   "execution_count": 4,
   "metadata": {},
   "outputs": [
    {
     "name": "stderr",
     "output_type": "stream",
     "text": [
      "C:\\Users\\LocCH\\AppData\\Local\\miniconda3\\envs\\py310x\\lib\\site-packages\\urllib3\\connectionpool.py:1099: InsecureRequestWarning: Unverified HTTPS request is being made to host 'hcm-proxy'. Adding certificate verification is strongly advised. See: https://urllib3.readthedocs.io/en/latest/advanced-usage.html#tls-warnings\n",
      "  warnings.warn(\n"
     ]
    },
    {
     "name": "stdout",
     "output_type": "stream",
     "text": [
      "{\n",
      "  \"id\": \"chatcmpl-9rMfzFy8wrxXDnkfwuYhpBdQ73Tak\",\n",
      "  \"object\": \"chat.completion\",\n",
      "  \"created\": 1722505579,\n",
      "  \"model\": \"gpt-3.5-turbo-0125\",\n",
      "  \"choices\": [\n",
      "    {\n",
      "      \"index\": 0,\n",
      "      \"message\": {\n",
      "        \"role\": \"assistant\",\n",
      "        \"content\": \"Sure! Here's one for you:\\n\\nWhy was the math book sad?\\n\\nBecause it had too many problems.\"\n",
      "      },\n",
      "      \"logprobs\": null,\n",
      "      \"finish_reason\": \"stop\"\n",
      "    }\n",
      "  ],\n",
      "  \"usage\": {\n",
      "    \"prompt_tokens\": 22,\n",
      "    \"completion_tokens\": 22,\n",
      "    \"total_tokens\": 44\n",
      "  },\n",
      "  \"system_fingerprint\": null\n",
      "}\n"
     ]
    }
   ],
   "source": [
    "# Define the request headers\n",
    "headers = {\n",
    "    'Content-Type': 'application/json',\n",
    "    'Authorization': f'Bearer {OPENAI_API_KEY}',\n",
    "}\n",
    "\n",
    "messages = [{'role': 'system', 'content': 'You are a helpful assistant.'},\n",
    "            {'role': 'user', 'content': 'Tell me a joke.'}\n",
    "           ]\n",
    "\n",
    "\n",
    "res = get_completion(headers,messages)\n",
    "\n",
    "# Print the response\n",
    "print(json.dumps(res, indent=2))"
   ]
  },
  {
   "cell_type": "markdown",
   "metadata": {},
   "source": [
    "**Handshake with Model-llamafile**"
   ]
  },
  {
   "cell_type": "code",
   "execution_count": null,
   "metadata": {},
   "outputs": [],
   "source": [
    "# Connect to LLM llamafile\n",
    "llm = Llamafile()\n",
    "\n",
    "llm.invoke(\"Hello!\")"
   ]
  },
  {
   "cell_type": "markdown",
   "metadata": {},
   "source": [
    "**Inspect the example pretrain-data**"
   ]
  },
  {
   "cell_type": "code",
   "execution_count": 6,
   "metadata": {},
   "outputs": [
    {
     "name": "stdout",
     "output_type": "stream",
     "text": [
      "Total dataset samples: 300\n",
      "{\n",
      "  \"text\": \"Don\\u2019t think you need all the bells and whistles? No problem. McKinley Heating Service Experts Heating & Air Conditioning offers basic air cleaners that work to improve the quality of the air in your home without breaking the bank. It is a low-cost solution that will ensure you and your family are living comfortably.\\nIt\\u2019s a good idea to understand the efficiency rate of the filters, which measures what size of molecules can get through the filter. Basic air cleaners can filter some of the dust, dander and pollen that need to be removed. They are 85% efficient, and usually have a 6-inch cleaning surface.\\nBasic air cleaners are not too expensive and do the job well. If you do want to hear more about upgrading from a basic air cleaner, let the NATE-certified experts at McKinley Heating Service Experts in Edmonton talk to you about their selection.\\nEither way, now\\u2019s a perfect time to enhance and protect the indoor air quality in your home, for you and your loved ones.\\nIf you want expert advice and quality service in Edmonton, give McKinley Heating Service Experts a call at 780-800-7092 to get your questions or concerns related to your HVAC system addressed.\"\n",
      "}\n"
     ]
    }
   ],
   "source": [
    "DATA_PATH = 'examples/c4_demo.json'\n",
    "\n",
    "# Read the dataset\n",
    "with open(DATA_PATH,'r',encoding='utf-8') as f:\n",
    "    dataset = json.load(f)\n",
    "\n",
    "print(f'Total dataset samples: {len(dataset)}')\n",
    "\n",
    "first_sample = dataset[0]\n",
    "\n",
    "print(json.dumps(first_sample,indent=2))\n",
    "\n",
    "content = first_sample['text']"
   ]
  },
  {
   "cell_type": "code",
   "execution_count": 7,
   "metadata": {},
   "outputs": [
    {
     "name": "stderr",
     "output_type": "stream",
     "text": [
      "C:\\Users\\LocCH\\AppData\\Local\\miniconda3\\envs\\py310x\\lib\\site-packages\\urllib3\\connectionpool.py:1099: InsecureRequestWarning: Unverified HTTPS request is being made to host 'hcm-proxy'. Adding certificate verification is strongly advised. See: https://urllib3.readthedocs.io/en/latest/advanced-usage.html#tls-warnings\n",
      "  warnings.warn(\n"
     ]
    },
    {
     "name": "stdout",
     "output_type": "stream",
     "text": [
      "{\n",
      "  \"id\": \"chatcmpl-9rMgRE9wn0CDp2dYW6DOSNOvrJhhb\",\n",
      "  \"object\": \"chat.completion\",\n",
      "  \"created\": 1722505607,\n",
      "  \"model\": \"gpt-3.5-turbo-0125\",\n",
      "  \"choices\": [\n",
      "    {\n",
      "      \"index\": 0,\n",
      "      \"message\": {\n",
      "        \"role\": \"assistant\",\n",
      "        \"content\": \"The content describes how McKinley Heating Service Experts Heating & Air Conditioning offers basic air cleaners as a cost-effective solution to improve indoor air quality. These filters are 85% efficient at capturing dust, dander, and pollen, providing a comfortable living environment for you and your family. The text encourages considering upgrading to a more advanced air cleaner and invites readers to contact the NATE-certified experts at McKinley Heating Service Experts for advice. It also highlights the importance of protecting indoor air quality and suggests reaching out to the company at 780-800-7092 for expert advice and service in Edmonton.\"\n",
      "      },\n",
      "      \"logprobs\": null,\n",
      "      \"finish_reason\": \"stop\"\n",
      "    }\n",
      "  ],\n",
      "  \"usage\": {\n",
      "    \"prompt_tokens\": 268,\n",
      "    \"completion_tokens\": 120,\n",
      "    \"total_tokens\": 388\n",
      "  },\n",
      "  \"system_fingerprint\": null\n",
      "}\n"
     ]
    }
   ],
   "source": [
    "# Test with ChatGPT\n",
    "messages = [{'role': 'system', 'content': 'You are a helpful assistant.'},\n",
    "            {'role': 'user', 'content': f'summary the content between three backticks ```{content}```'}\n",
    "           ]\n",
    "\n",
    "res = get_completion(headers,messages)\n",
    "\n",
    "# Print the response\n",
    "print(json.dumps(res, indent=2))"
   ]
  },
  {
   "cell_type": "code",
   "execution_count": 8,
   "metadata": {},
   "outputs": [
    {
     "data": {
      "text/plain": [
       "\"As we come to the end of this month, it’s a good time to consider replacing your basic air cleaner for a higher-quality model. Our experts can help you select and install one that will meet all of your needs.\\nAt McKinley Heating Service Experts in Edmonton, we want to ensure you have the best HVAC system possible. If you need expert advice or quality service, our team is here for you! Give us a call at 780-800-7092.\\nIf you are looking for an experienced and professional heating and air conditioning company in Edmonton, consider calling us for all of your HVAC needs! McKinley Heating Service Experts is here to help with all of your AC repair needs! Contact us at 780-800-7092.\\nDo you want a heating and cooling company in Edmonton that will provide the best possible service for your home? If so, then contact us today at 780-800-7092 to schedule an appointment with one of our experienced HVAC technicians! We offer high-quality HVAC products and services and can help you find solutions for all of your HVAC needs.\\nIf your home has been without heat for a while, then it might be time to call in the experts at McKinley Heating Service Experts for heater installation or repair! We have been providing heating services to Edmonton residents since 1967, and our team of professional technicians is here to help you with all your HVAC needs. Contact us today at 780-800-7092!\\nWe are proud to announce that we have been named Best of Edmonton for 2018 in the Heating category! We would like to thank everyone who voted for us, and we appreciate your support! If you haven't yet received your new heater, then it's time to schedule service with one of our experienced technicians today! Give us a call at 780-800-7092.\\nMcKinley Heating Service Experts is excited to introduce the latest addition to our portfolio – the Lennox® HVAC System! Our new lineup includes a variety of products and features for all types of homes. If you are looking for high-performance heating, cooling, and comfort solutions then our team of experts can help you find the right system for your needs! Give us a call at 780-800-7092 to schedule an appointment with one of our HVAC technicians today!\\nMcKinley Heating Service Experts has been helping Edmonton residents achieve optimal home comfort since 1967. We provide high-quality heating, air conditioning, and indoor air quality solutions for residential properties across the city. Our team of experts is passionate about keeping our customers comfortable year round! Give us a call at 780-800-7092 today to schedule an appointment with one of our experienced HVAC technicians!\\nMcKinley Heating Service Experts is excited to announce the addition of a new lineup of products – the Lennox® HVAC System! Our team of experts can help you find the perfect heating and cooling solution for your home! Give us a call at 780-800-7092 today to schedule an appointment with one of our HVAC technicians.\\nMcKinley Heating Service Experts has been helping Edmonton residents achieve optimal home comfort since 1967! We provide high-quality heating, air conditioning, and indoor air quality solutions for residential properties across the city! Our team of experts is passionate about keeping our customers comfortable year round! Give us a call at 780-800-7092 today to schedule an appointment with one of our experienced HVAC technicians!\\nMcKinley Heating Service Experts has been helping Edmonton residents achieve optimal home comfort since 1967! We provide high-quality heating, air conditioning, and indoor air quality solutions for residential properties across the city! Our team of experts is passionate about keeping our customers comfortable year round! Give us a call at 780-800-7092 today to schedule an appointment with one of our experienced HVAC technicians.</s>\""
      ]
     },
     "execution_count": 8,
     "metadata": {},
     "output_type": "execute_result"
    }
   ],
   "source": [
    "# Test with model llamafile\n",
    "llm.invoke(f'summary the content between three backticks in 30 words```{content}```')"
   ]
  },
  {
   "cell_type": "code",
   "execution_count": 9,
   "metadata": {},
   "outputs": [
    {
     "name": "stdout",
     "output_type": "stream",
     "text": [
      "\n",
      "You are a helpful assistant. Based on the following information, provide a summary in 30 words:\n",
      "Information: Don’t think you need all the bells and whistles? No problem. McKinley Heating Service Experts Heating & Air Conditioning offers basic air cleaners that work to improve the quality of the air in your home without breaking the bank. It is a low-cost solution that will ensure you and your family are living comfortably.\n",
      "It’s a good idea to understand the efficiency rate of the filters, which measures what size of molecules can get through the filter. Basic air cleaners can filter some of the dust, dander and pollen that need to be removed. They are 85% efficient, and usually have a 6-inch cleaning surface.\n",
      "Basic air cleaners are not too expensive and do the job well. If you do want to hear more about upgrading from a basic air cleaner, let the NATE-certified experts at McKinley Heating Service Experts in Edmonton talk to you about their selection.\n",
      "Either way, now’s a perfect time to enhance and protect the indoor air quality in your home, for you and your loved ones.\n",
      "If you want expert advice and quality service in Edmonton, give McKinley Heating Service Experts a call at 780-800-7092 to get your questions or concerns related to your HVAC system addressed.\n",
      "Summary:\n",
      "\n"
     ]
    }
   ],
   "source": [
    "# Create template\n",
    "prompt_template = \"\"\"\n",
    "You are a helpful assistant. Based on the following information, provide a summary in 30 words:\n",
    "Information: {information}\n",
    "Summary:\n",
    "\"\"\"\n",
    "\n",
    "prompt = PromptTemplate.from_template(prompt_template)\n",
    "\n",
    "# Check\n",
    "current_prompt = prompt.format(information=content)\n",
    "print(current_prompt)"
   ]
  },
  {
   "cell_type": "code",
   "execution_count": 10,
   "metadata": {},
   "outputs": [
    {
     "name": "stdout",
     "output_type": "stream",
     "text": [
      "Total dataset samples: 300\n",
      "Sample size: 5\n"
     ]
    }
   ],
   "source": [
    "total_sample_size = len(dataset)\n",
    "sample_size = 5\n",
    "\n",
    "print(f'Total dataset samples: {total_sample_size}')\n",
    "print(f'Sample size: {sample_size}')"
   ]
  },
  {
   "cell_type": "code",
   "execution_count": 11,
   "metadata": {},
   "outputs": [
    {
     "name": "stdout",
     "output_type": "stream",
     "text": [
      "Response_0 Consumming Time:12.69(s):\n",
      "The Day Spa Retreat was a tremendous success. Milana’s education program was outstanding and the day spa owners shared a lot of information in an open forum. Although the therapists were booked solid, more could have been done to accommodate everyone who wanted a treatment at Red Mountain. It will be interesting to see how their retail business progresses after October’s full moon.</s>\n",
      "\n",
      "\n",
      "Response_1 Consumming Time:9.88(s):\n",
      "The weekend was a success and enjoyed by all, we were honoured to host the lady on her 70th birthday. The menu had plenty of options for vegetarians as well as meat. It was a wonderful Sunday lunch with delicious food and lovely company. Next Sunday is our favourite day of the week!</s>\n",
      "\n",
      "\n",
      "Response_2 Consumming Time:67.59(s):\n",
      "The U.S. Men's national team is poised to make a major statement with two games against England in London and one versus Italy in Genk, Belgium on Nov. 15-16, which will serve as the final set of international matches for 2018.\n",
      "Christian Pulisic, Weston McKennie and Tyler Adams, who all had to withdraw from October matches vs. Colombia and Peru because of injuries, will suit up against England in London on Nov. 15 and Nov. 20 at the Wembley Stadium, while they play Italy on Nov. 16 and Nov. 21 at the Stade de Lyon.\n",
      "Sarachan's roster expansion for these matches is expected to include eight clubs still alive in the MLS playoffs, with eight others being identified as candidates for a full-time caretaker role by U.S. General manager Earnie Stewart before the end of this month.\n",
      "Pulisic has played only 89 minutes for Dortmund since signing his contract with the club on July 12 and is not expected to feature in either match. Adams' time as Borussia Dortmund's captain was interrupted by a knee injury suffered during the Bundesliga opener against Freiburg on Aug. 26 but he has been able to resume training.\n",
      "McKennie, who missed the last month of the MLS regular season and the first part of the postseason because of an abdominal injury, will be evaluated after that period and might not feature in either match.\n",
      "Weah is expected to miss the matches against England due to a minor foot injury that he sustained during training camp. He was seen jogging around with his teammates on Thursday, but it's unclear whether he will be available for selection.\n",
      "The U.S. Was eliminated from the World Cup after finishing second in Group G, which included England and Tunisia, in a playoff match against Tunisia that ended 1-0. The Americans also suffered their first defeat in a friendly in March when they lost to Germany in a friendly at the Allianz Arena in Munich.\n",
      "With the departure of Landon Donovan from the national team and the uncertainty surrounding others, such as Gyasi Zardes, this could be a very interesting year for U.S. Soccer. With the up-and-coming players like Pulisic, McKennie, Adams, Weah and Sargent to work with, it should make the next several years of American football much more exciting.\n",
      "Tags: 2018 World Cup, MLS, USMNT, Christian Pulisic, Jozy Altidore, Tyler Adams, Yedlin</s>\n",
      "\n",
      "\n",
      "Response_3 Consumming Time:14.90(s):\n",
      "McKinley Heating Service Experts Heating & Air Conditioning offers basic air cleaners that work to improve the quality of the air in your home without breaking the bank. It is a low-cost solution that will ensure you and your family are living comfortably. Basic air cleaners can filter some of the dust, dander, and pollen that need to be removed, making them 85% efficient. The experts at McKinley Heating Service Experts can help you decide on an upgrade if you want to hear more about their selection or if you want to protect your indoor air quality today.</s>\n",
      "\n",
      "\n",
      "Response_4 Consumming Time:30.61(s):\n",
      "To the apparent surprise of everyone, the Walt Disney Company has agreed to fork over $4.05 billion in cash and stock for George Lucas’ studio in a deal that brings together two of the world’s most important intellectual property libraries. As you might expect, Disney is itching to take advantage of its new toys. Under the terms of this agreement Disney will acquire control over all Lucasfilm iterations. This includes both its traditional film-making studio facilities as well as the various technologies Lucasfilm has created over the years to further its various media properties. Thus, the gigantic Disney family now includes Lucasfilm itself, special effects house Industrial Light & Magic, Skywalker Sound and LucasArts, the company’s video game creation division. This acquisition alone would be huge news, but as if to pre-empt fan speculation on the future of Star Wars, a new Star Wars movie is scheduled to appear in 2015. Though the vast majority of recent Star Wars media has been focused on the property’s various animated iterations and LEGO crossovers, this new film will be the first official cinematic continuation of George Lucas’ original Star Wars trilogy.</s>\n",
      "\n",
      "\n"
     ]
    }
   ],
   "source": [
    "# Use llm to inspect some samples\n",
    "for i in range(sample_size):\n",
    "    # Start Counting time\n",
    "    start_time = time.time()\n",
    "    # Random pick sample index\n",
    "    random_index = random.choice(range(sample_size))\n",
    "    # Get sample by random_index\n",
    "    current_sample = dataset[random_index]\n",
    "    # Get the content\n",
    "    current_content = current_sample['text']\n",
    "    # Generate prompt\n",
    "    current_prompt = prompt.format(information=current_content)\n",
    "    # LLM inference\n",
    "    current_response = llm.invoke(current_prompt)\n",
    "    # End counting time\n",
    "    end_time = time.time() - start_time\n",
    "    print(f\"Response_{i} Consumming Time:{end_time:.2f}(s):\\n{current_response}\\n\\n\")"
   ]
  },
  {
   "cell_type": "markdown",
   "metadata": {},
   "source": [
    "**Load PDF book**"
   ]
  },
  {
   "cell_type": "code",
   "execution_count": 14,
   "metadata": {},
   "outputs": [
    {
     "name": "stdout",
     "output_type": "stream",
     "text": [
      "Total pages 165\n"
     ]
    }
   ],
   "source": [
    "from langchain_community.document_loaders import PyPDFLoader\n",
    "\n",
    "loader = PyPDFLoader(\"assets/ProPLI.pdf\")\n",
    "pages = loader.load_and_split()\n",
    "\n",
    "total_pages = len(pages)\n",
    "print(\"Total pages\",total_pages)"
   ]
  },
  {
   "cell_type": "code",
   "execution_count": null,
   "metadata": {},
   "outputs": [],
   "source": [
    "# Random select page\n",
    "page_index = random.choice(range(total_pages))\n",
    "\n",
    "current_page = pages[page_index]\n",
    "\n",
    "print(current_page.page_content)"
   ]
  },
  {
   "cell_type": "markdown",
   "metadata": {},
   "source": [
    "**Prompt Something**"
   ]
  },
  {
   "cell_type": "code",
   "execution_count": null,
   "metadata": {},
   "outputs": [],
   "source": []
  },
  {
   "cell_type": "code",
   "execution_count": null,
   "metadata": {},
   "outputs": [],
   "source": []
  },
  {
   "cell_type": "code",
   "execution_count": null,
   "metadata": {},
   "outputs": [],
   "source": []
  }
 ],
 "metadata": {
  "kernelspec": {
   "display_name": "Python 3 (ipykernel)",
   "language": "python",
   "name": "python3"
  },
  "language_info": {
   "codemirror_mode": {
    "name": "ipython",
    "version": 3
   },
   "file_extension": ".py",
   "mimetype": "text/x-python",
   "name": "python",
   "nbconvert_exporter": "python",
   "pygments_lexer": "ipython3",
   "version": "3.10.14"
  }
 },
 "nbformat": 4,
 "nbformat_minor": 4
}
